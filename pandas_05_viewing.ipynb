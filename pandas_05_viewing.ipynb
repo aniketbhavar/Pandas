{
  "nbformat": 4,
  "nbformat_minor": 0,
  "metadata": {
    "colab": {
      "provenance": []
    },
    "kernelspec": {
      "name": "python3",
      "display_name": "Python 3"
    },
    "language_info": {
      "name": "python"
    }
  },
  "cells": [
    {
      "cell_type": "markdown",
      "source": [
        "# Head"
      ],
      "metadata": {
        "id": "ukkhgSwgcPbi"
      }
    },
    {
      "cell_type": "code",
      "execution_count": 7,
      "metadata": {
        "colab": {
          "base_uri": "https://localhost:8080/"
        },
        "id": "_Jifcbj9XiVI",
        "outputId": "c3d10e7b-48b1-454c-ab11-598b7ef01bbd"
      },
      "outputs": [
        {
          "output_type": "stream",
          "name": "stdout",
          "text": [
            "   0\n",
            "0  1\n",
            "1  2\n",
            "2  3\n",
            "3  4\n",
            "4  4\n",
            "5  5\n"
          ]
        }
      ],
      "source": [
        "import pandas as pd\n",
        "dict=({\n",
        "    \"age\":[22,23,23],\n",
        "    \"name\":[\"Aniket\",\"bhavar\"]\n",
        "})\n",
        "df=pd.DataFrame(list)\n",
        "print(df)"
      ]
    },
    {
      "cell_type": "markdown",
      "source": [
        "# Example #1: In this example, top 5 rows of data frame are returned and stored in a new variable. No parameter is passed to .head() method since by default it is 5."
      ],
      "metadata": {
        "id": "IXunjfDFa9yP"
      }
    },
    {
      "cell_type": "code",
      "source": [
        "# importing pandas module\n",
        "import pandas as pd\n",
        "\n",
        "# making data frame\n",
        "data = pd.read_csv(\"https://media.geeksforgeeks.org/wp-content/uploads/nba.csv\")"
      ],
      "metadata": {
        "id": "bWL94MNSZpja"
      },
      "execution_count": 8,
      "outputs": []
    },
    {
      "cell_type": "code",
      "source": [
        "c=data.head(9)"
      ],
      "metadata": {
        "id": "sN-rmbkkbIAq"
      },
      "execution_count": 11,
      "outputs": []
    },
    {
      "cell_type": "code",
      "source": [
        "print(c)"
      ],
      "metadata": {
        "colab": {
          "base_uri": "https://localhost:8080/"
        },
        "id": "OwN_aSmwbPDS",
        "outputId": "000ab27d-45c8-4044-e36c-09046940f006"
      },
      "execution_count": 12,
      "outputs": [
        {
          "output_type": "stream",
          "name": "stdout",
          "text": [
            "            Name            Team  Number Position   Age Height  Weight  \\\n",
            "0  Avery Bradley  Boston Celtics     0.0       PG  25.0    6-2   180.0   \n",
            "1    Jae Crowder  Boston Celtics    99.0       SF  25.0    6-6   235.0   \n",
            "2   John Holland  Boston Celtics    30.0       SG  27.0    6-5   205.0   \n",
            "3    R.J. Hunter  Boston Celtics    28.0       SG  22.0    6-5   185.0   \n",
            "4  Jonas Jerebko  Boston Celtics     8.0       PF  29.0   6-10   231.0   \n",
            "5   Amir Johnson  Boston Celtics    90.0       PF  29.0    6-9   240.0   \n",
            "6  Jordan Mickey  Boston Celtics    55.0       PF  21.0    6-8   235.0   \n",
            "7   Kelly Olynyk  Boston Celtics    41.0        C  25.0    7-0   238.0   \n",
            "8   Terry Rozier  Boston Celtics    12.0       PG  22.0    6-2   190.0   \n",
            "\n",
            "             College      Salary  \n",
            "0              Texas   7730337.0  \n",
            "1          Marquette   6796117.0  \n",
            "2  Boston University         NaN  \n",
            "3      Georgia State   1148640.0  \n",
            "4                NaN   5000000.0  \n",
            "5                NaN  12000000.0  \n",
            "6                LSU   1170960.0  \n",
            "7            Gonzaga   2165160.0  \n",
            "8         Louisville   1824360.0  \n"
          ]
        }
      ]
    },
    {
      "cell_type": "markdown",
      "source": [
        "# Calling on Series with n parameter() In this example, the .head() method is called on series with custom input of n parameter to return top 9 rows of the series."
      ],
      "metadata": {
        "id": "67WNRnNFbbL6"
      }
    },
    {
      "cell_type": "code",
      "source": [
        "n=9\n",
        "d=data['Name'].head(n=n)\n",
        "print(d)"
      ],
      "metadata": {
        "colab": {
          "base_uri": "https://localhost:8080/"
        },
        "id": "NwQNpwyHbS-A",
        "outputId": "6ef627d0-c1a6-45f4-802b-2ff4fbb1e8d3"
      },
      "execution_count": 15,
      "outputs": [
        {
          "output_type": "stream",
          "name": "stdout",
          "text": [
            "0    Avery Bradley\n",
            "1      Jae Crowder\n",
            "2     John Holland\n",
            "3      R.J. Hunter\n",
            "4    Jonas Jerebko\n",
            "5     Amir Johnson\n",
            "6    Jordan Mickey\n",
            "7     Kelly Olynyk\n",
            "8     Terry Rozier\n",
            "Name: Name, dtype: object\n"
          ]
        }
      ]
    },
    {
      "cell_type": "markdown",
      "source": [
        "# Tail"
      ],
      "metadata": {
        "id": "4Eq5kQgQcUPj"
      }
    },
    {
      "cell_type": "code",
      "source": [
        "import pandas as pd"
      ],
      "metadata": {
        "id": "jikP9uBycYjT"
      },
      "execution_count": 16,
      "outputs": []
    },
    {
      "cell_type": "code",
      "source": [
        "# making data frame\n",
        "data = pd.read_csv(\"https://media.geeksforgeeks.org/wp-content/uploads/nba.csv\")"
      ],
      "metadata": {
        "id": "LZda2gmRc0b_"
      },
      "execution_count": 17,
      "outputs": []
    },
    {
      "cell_type": "code",
      "source": [
        "c=data.tail()"
      ],
      "metadata": {
        "id": "Tf7ygg2Sc34y"
      },
      "execution_count": 18,
      "outputs": []
    },
    {
      "cell_type": "code",
      "source": [
        "print(c)"
      ],
      "metadata": {
        "colab": {
          "base_uri": "https://localhost:8080/"
        },
        "id": "csXyIA-Zc9OS",
        "outputId": "3a0adc88-4614-4705-dd12-d0e6f877dbc0"
      },
      "execution_count": 19,
      "outputs": [
        {
          "output_type": "stream",
          "name": "stdout",
          "text": [
            "             Name       Team  Number Position   Age Height  Weight College  \\\n",
            "453  Shelvin Mack  Utah Jazz     8.0       PG  26.0    6-3   203.0  Butler   \n",
            "454     Raul Neto  Utah Jazz    25.0       PG  24.0    6-1   179.0     NaN   \n",
            "455  Tibor Pleiss  Utah Jazz    21.0        C  26.0    7-3   256.0     NaN   \n",
            "456   Jeff Withey  Utah Jazz    24.0        C  26.0    7-0   231.0  Kansas   \n",
            "457           NaN        NaN     NaN      NaN   NaN    NaN     NaN     NaN   \n",
            "\n",
            "        Salary  \n",
            "453  2433333.0  \n",
            "454   900000.0  \n",
            "455  2900000.0  \n",
            "456   947276.0  \n",
            "457        NaN  \n"
          ]
        }
      ]
    },
    {
      "cell_type": "code",
      "source": [
        "n=9\n",
        "d=data['College'].tail(n=n)\n",
        "print(d)"
      ],
      "metadata": {
        "colab": {
          "base_uri": "https://localhost:8080/"
        },
        "id": "eY40Zi7YdBiW",
        "outputId": "a04ae297-2c49-4f60-aa70-6b17ae474e7e"
      },
      "execution_count": 21,
      "outputs": [
        {
          "output_type": "stream",
          "name": "stdout",
          "text": [
            "449        Duke\n",
            "450         NaN\n",
            "451      Dayton\n",
            "452    Kentucky\n",
            "453      Butler\n",
            "454         NaN\n",
            "455         NaN\n",
            "456      Kansas\n",
            "457         NaN\n",
            "Name: College, dtype: object\n"
          ]
        }
      ]
    },
    {
      "cell_type": "markdown",
      "source": [
        "# describe()"
      ],
      "metadata": {
        "id": "8sTFwfn4dr6o"
      }
    },
    {
      "cell_type": "code",
      "source": [
        "# pandas describe is used to view some basic statsical details like percentile, mean, std, etc."
      ],
      "metadata": {
        "id": "XUF9_XXYdwWb"
      },
      "execution_count": 22,
      "outputs": []
    },
    {
      "cell_type": "code",
      "source": [
        "print(data)"
      ],
      "metadata": {
        "colab": {
          "base_uri": "https://localhost:8080/"
        },
        "id": "bwb0U5a9ehXA",
        "outputId": "88d7d4bf-2b09-484c-a463-326d0298ad57"
      },
      "execution_count": 23,
      "outputs": [
        {
          "output_type": "stream",
          "name": "stdout",
          "text": [
            "              Name            Team  Number Position   Age Height  Weight  \\\n",
            "0    Avery Bradley  Boston Celtics     0.0       PG  25.0    6-2   180.0   \n",
            "1      Jae Crowder  Boston Celtics    99.0       SF  25.0    6-6   235.0   \n",
            "2     John Holland  Boston Celtics    30.0       SG  27.0    6-5   205.0   \n",
            "3      R.J. Hunter  Boston Celtics    28.0       SG  22.0    6-5   185.0   \n",
            "4    Jonas Jerebko  Boston Celtics     8.0       PF  29.0   6-10   231.0   \n",
            "..             ...             ...     ...      ...   ...    ...     ...   \n",
            "453   Shelvin Mack       Utah Jazz     8.0       PG  26.0    6-3   203.0   \n",
            "454      Raul Neto       Utah Jazz    25.0       PG  24.0    6-1   179.0   \n",
            "455   Tibor Pleiss       Utah Jazz    21.0        C  26.0    7-3   256.0   \n",
            "456    Jeff Withey       Utah Jazz    24.0        C  26.0    7-0   231.0   \n",
            "457            NaN             NaN     NaN      NaN   NaN    NaN     NaN   \n",
            "\n",
            "               College     Salary  \n",
            "0                Texas  7730337.0  \n",
            "1            Marquette  6796117.0  \n",
            "2    Boston University        NaN  \n",
            "3        Georgia State  1148640.0  \n",
            "4                  NaN  5000000.0  \n",
            "..                 ...        ...  \n",
            "453             Butler  2433333.0  \n",
            "454                NaN   900000.0  \n",
            "455                NaN  2900000.0  \n",
            "456             Kansas   947276.0  \n",
            "457                NaN        NaN  \n",
            "\n",
            "[458 rows x 9 columns]\n"
          ]
        }
      ]
    },
    {
      "cell_type": "code",
      "source": [
        "print(data.describe())"
      ],
      "metadata": {
        "colab": {
          "base_uri": "https://localhost:8080/"
        },
        "id": "tCAvmIfXevqF",
        "outputId": "7a1dfe20-9d79-4959-f915-2e6581a47983"
      },
      "execution_count": 24,
      "outputs": [
        {
          "output_type": "stream",
          "name": "stdout",
          "text": [
            "           Number         Age      Weight        Salary\n",
            "count  457.000000  457.000000  457.000000  4.460000e+02\n",
            "mean    17.678337   26.938731  221.522976  4.842684e+06\n",
            "std     15.966090    4.404016   26.368343  5.229238e+06\n",
            "min      0.000000   19.000000  161.000000  3.088800e+04\n",
            "25%      5.000000   24.000000  200.000000  1.044792e+06\n",
            "50%     13.000000   26.000000  220.000000  2.839073e+06\n",
            "75%     25.000000   30.000000  240.000000  6.500000e+06\n",
            "max     99.000000   40.000000  307.000000  2.500000e+07\n"
          ]
        }
      ]
    },
    {
      "cell_type": "code",
      "source": [
        "c=data['Age'].describe()"
      ],
      "metadata": {
        "id": "dQP2Mz-ce2Wa"
      },
      "execution_count": 25,
      "outputs": []
    },
    {
      "cell_type": "code",
      "source": [
        "print(c)"
      ],
      "metadata": {
        "colab": {
          "base_uri": "https://localhost:8080/"
        },
        "id": "INUaAuGJe2nh",
        "outputId": "06be08ab-c42f-4b00-af44-9f07bb99bb52"
      },
      "execution_count": 26,
      "outputs": [
        {
          "output_type": "stream",
          "name": "stdout",
          "text": [
            "count    457.000000\n",
            "mean      26.938731\n",
            "std        4.404016\n",
            "min       19.000000\n",
            "25%       24.000000\n",
            "50%       26.000000\n",
            "75%       30.000000\n",
            "max       40.000000\n",
            "Name: Age, dtype: float64\n"
          ]
        }
      ]
    },
    {
      "cell_type": "code",
      "source": [],
      "metadata": {
        "id": "YQb5F52SfBpc"
      },
      "execution_count": null,
      "outputs": []
    }
  ]
}