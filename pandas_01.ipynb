{
  "nbformat": 4,
  "nbformat_minor": 0,
  "metadata": {
    "colab": {
      "provenance": []
    },
    "kernelspec": {
      "name": "python3",
      "display_name": "Python 3"
    },
    "language_info": {
      "name": "python"
    }
  },
  "cells": [
    {
      "cell_type": "markdown",
      "source": [
        "# Pandas Introduction\n",
        "\n",
        "> Pandas is a powerful and open-source library Python library for data manipulation and analysis, providing data structures and functions for efficient operations.\n",
        "\n",
        "Pandas is like a superhero for handling data in Python. It's a library, or a collection of pre-written code, that makes working with data super easy and efficient. With Pandas, you can do all sorts of things with data, like organizing it into tables, cleaning it up, analyzing it, and even visualizing it. It's a must-have tool for anyone who deals with data in Python, whether you're a scientist, analyst, or just someone who loves digging into numbers.\n",
        "\n",
        "Data set cleaning, merging, and joining.\n",
        "Easy handling of missing data (represented as NaN) in floating point as well as non-floating point data.\n",
        "Columns can be inserted and deleted from DataFrame and higher dimensional objects.\n",
        "Powerful group by functionality for performing split-apply-combine operations on data sets.\n",
        "Data Visulaization\n",
        "\n",
        "\n",
        "\n",
        "\n",
        "\n",
        "\n",
        "\n",
        "\n",
        "\n",
        "\n"
      ],
      "metadata": {
        "id": "stX9rqB51MSB"
      }
    },
    {
      "cell_type": "markdown",
      "source": [
        "# Pandas Data Structures\n",
        "Pandas generally provide two data structures for manipulating data, They are:\n",
        "\n",
        "Series-A Pandas Series is a one-dimensional labeled array-like data structure provided by the Pandas library in Python. It's designed to handle a single sequence of data, similar to a column in a spreadsheet or a one-dimensional NumPy array, but with additional features.\n",
        "\n",
        "DataFrame-A Pandas DataFrame is a two-dimensional labeled data structure provided by the Pandas library in Python. It's akin to a table or a spreadsheet, where data is organized into rows and columns, and each column can have a different data type."
      ],
      "metadata": {
        "id": "oRjChdMu4AFT"
      }
    },
    {
      "cell_type": "code",
      "execution_count": 1,
      "metadata": {
        "colab": {
          "base_uri": "https://localhost:8080/"
        },
        "id": "AurfdP1b05gg",
        "outputId": "3f1d31dc-ee9f-4d00-9878-448aeb3fc28e"
      },
      "outputs": [
        {
          "output_type": "stream",
          "name": "stdout",
          "text": [
            "0    10\n",
            "1    20\n",
            "2    30\n",
            "3    40\n",
            "4    50\n",
            "dtype: int64\n"
          ]
        }
      ],
      "source": [
        "# series example\n",
        "import pandas as pd\n",
        "\n",
        "# Creating a Series\n",
        "s = pd.Series([10, 20, 30, 40, 50])\n",
        "\n",
        "# Printing the Series\n",
        "print(s)"
      ]
    },
    {
      "cell_type": "code",
      "source": [
        "import pandas as pd\n",
        "\n",
        "# Creating a dictionary with sample data\n",
        "data = {\n",
        "    'Name': ['John', 'Anna', 'Peter', 'Linda'],\n",
        "    'Age': [25, 30, 35, 28],\n",
        "    'City': ['New York', 'Paris', 'London', 'Tokyo']\n",
        "}\n",
        "\n",
        "# Creating a DataFrame from the dictionary\n",
        "df = pd.DataFrame(data)\n",
        "\n",
        "# Printing the DataFrame\n",
        "print(df)\n"
      ],
      "metadata": {
        "colab": {
          "base_uri": "https://localhost:8080/"
        },
        "id": "EC4LfuW_6aWH",
        "outputId": "d21e7bf4-a48f-41bc-95f9-341e492af520"
      },
      "execution_count": 2,
      "outputs": [
        {
          "output_type": "stream",
          "name": "stdout",
          "text": [
            "    Name  Age      City\n",
            "0   John   25  New York\n",
            "1   Anna   30     Paris\n",
            "2  Peter   35    London\n",
            "3  Linda   28     Tokyo\n"
          ]
        }
      ]
    },
    {
      "cell_type": "code",
      "source": [
        "# create empty dataframe\n",
        "import pandas as pd\n",
        "df=pd.DataFrame()\n",
        "print(df)"
      ],
      "metadata": {
        "colab": {
          "base_uri": "https://localhost:8080/"
        },
        "id": "gnxaQjBZ61lG",
        "outputId": "29bc1a74-6382-4637-b2d4-a6667e216984"
      },
      "execution_count": 4,
      "outputs": [
        {
          "output_type": "stream",
          "name": "stdout",
          "text": [
            "Empty DataFrame\n",
            "Columns: []\n",
            "Index: []\n"
          ]
        }
      ]
    },
    {
      "cell_type": "code",
      "source": [
        "# create dataframe using list\n",
        "import pandas as pd\n",
        "list=[1,2,3,4,5]\n",
        "df=pd.DataFrame(list)\n",
        "print(df)"
      ],
      "metadata": {
        "colab": {
          "base_uri": "https://localhost:8080/"
        },
        "id": "epco0Avh62Al",
        "outputId": "3cae626b-85c9-4b48-b7be-c27d9ac9b8d9"
      },
      "execution_count": 5,
      "outputs": [
        {
          "output_type": "stream",
          "name": "stdout",
          "text": [
            "   0\n",
            "0  1\n",
            "1  2\n",
            "2  3\n",
            "3  4\n",
            "4  5\n"
          ]
        }
      ]
    },
    {
      "cell_type": "code",
      "source": [
        "#create DataFrame from dict of narray/list\n",
        "import pandas as pd\n",
        "data={'Name' :['aniket','shreyas','sachin'],\n",
        "      'Age'  :[19,12,16]\n",
        "       }\n",
        "df=pd.DataFrame(data)\n",
        "print(df)"
      ],
      "metadata": {
        "colab": {
          "base_uri": "https://localhost:8080/"
        },
        "id": "QrFY0TYO_hpS",
        "outputId": "9591e3ab-2a8f-435b-8c56-65614fbc9f36"
      },
      "execution_count": 8,
      "outputs": [
        {
          "output_type": "stream",
          "name": "stdout",
          "text": [
            "      Name  Age\n",
            "0   aniket   19\n",
            "1  shreyas   12\n",
            "2   sachin   16\n"
          ]
        }
      ]
    },
    {
      "cell_type": "code",
      "source": [
        "# Creating pandas data-frame from lists using dictionary\n",
        "import pandas as pd\n",
        "data = {\n",
        "    'Name':['Aniket','aditya','pratik','om'],\n",
        "    'degree' :['b.tech','b.engineering','M.tech','BSE'],\n",
        "    'score': [20,30,40,50]\n",
        "}\n",
        "df=pd.DataFrame(data)\n",
        "print(df)"
      ],
      "metadata": {
        "colab": {
          "base_uri": "https://localhost:8080/"
        },
        "id": "BCheQp_T_htf",
        "outputId": "821e5ce4-10fc-451e-b9bc-268e5ff778af"
      },
      "execution_count": 9,
      "outputs": [
        {
          "output_type": "stream",
          "name": "stdout",
          "text": [
            "     Name         degree  score\n",
            "0  Aniket         b.tech     20\n",
            "1  aditya  b.engineering     30\n",
            "2  pratik         M.tech     40\n",
            "3      om            BSE     50\n"
          ]
        }
      ]
    }
  ]
}