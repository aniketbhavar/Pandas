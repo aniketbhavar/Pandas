{
  "nbformat": 4,
  "nbformat_minor": 0,
  "metadata": {
    "colab": {
      "provenance": []
    },
    "kernelspec": {
      "name": "python3",
      "display_name": "Python 3"
    },
    "language_info": {
      "name": "python"
    }
  },
  "cells": [
    {
      "cell_type": "markdown",
      "source": [
        "# Conversion Operation on Series"
      ],
      "metadata": {
        "id": "hyU45Tr-GPvK"
      }
    },
    {
      "cell_type": "code",
      "execution_count": 1,
      "metadata": {
        "colab": {
          "base_uri": "https://localhost:8080/"
        },
        "id": "PeRbOzaoCWMi",
        "outputId": "33d12477-d5c5-4ac2-a317-1e2c0154b5ea"
      },
      "outputs": [
        {
          "output_type": "stream",
          "name": "stdout",
          "text": [
            "     Overall rank         Country or region  Score  GDP per capita  \\\n",
            "0               1                   Finland  7.769           1.340   \n",
            "1               2                   Denmark  7.600           1.383   \n",
            "2               3                    Norway  7.554           1.488   \n",
            "3               4                   Iceland  7.494           1.380   \n",
            "4               5               Netherlands  7.488           1.396   \n",
            "..            ...                       ...    ...             ...   \n",
            "151           152                    Rwanda  3.334           0.359   \n",
            "152           153                  Tanzania  3.231           0.476   \n",
            "153           154               Afghanistan  3.203           0.350   \n",
            "154           155  Central African Republic  3.083           0.026   \n",
            "155           156               South Sudan  2.853           0.306   \n",
            "\n",
            "     Social support  Healthy life expectancy  Freedom to make life choices  \\\n",
            "0             1.587                    0.986                         0.596   \n",
            "1             1.573                    0.996                         0.592   \n",
            "2             1.582                    1.028                         0.603   \n",
            "3             1.624                    1.026                         0.591   \n",
            "4             1.522                    0.999                         0.557   \n",
            "..              ...                      ...                           ...   \n",
            "151           0.711                    0.614                         0.555   \n",
            "152           0.885                    0.499                         0.417   \n",
            "153           0.517                    0.361                         0.000   \n",
            "154           0.000                    0.105                         0.225   \n",
            "155           0.575                    0.295                         0.010   \n",
            "\n",
            "     Generosity  Perceptions of corruption  \n",
            "0         0.153                      0.393  \n",
            "1         0.252                      0.410  \n",
            "2         0.271                      0.341  \n",
            "3         0.354                      0.118  \n",
            "4         0.322                      0.298  \n",
            "..          ...                        ...  \n",
            "151       0.217                      0.411  \n",
            "152       0.276                      0.147  \n",
            "153       0.158                      0.025  \n",
            "154       0.235                      0.035  \n",
            "155       0.202                      0.091  \n",
            "\n",
            "[156 rows x 9 columns]\n"
          ]
        }
      ],
      "source": [
        "import pandas as pd\n",
        "df=pd.read_csv(\"2019.csv\")\n",
        "print(df)"
      ]
    },
    {
      "cell_type": "code",
      "source": [
        "df.isnull().sum()"
      ],
      "metadata": {
        "colab": {
          "base_uri": "https://localhost:8080/"
        },
        "id": "YqLZAPUbHEPW",
        "outputId": "2afa5c93-8eda-4d92-eb14-8ad2c409b19b"
      },
      "execution_count": 6,
      "outputs": [
        {
          "output_type": "execute_result",
          "data": {
            "text/plain": [
              "Overall rank                    0\n",
              "Country or region               0\n",
              "Score                           0\n",
              "GDP per capita                  0\n",
              "Social support                  0\n",
              "Healthy life expectancy         0\n",
              "Freedom to make life choices    0\n",
              "Generosity                      0\n",
              "Perceptions of corruption       0\n",
              "dtype: int64"
            ]
          },
          "metadata": {},
          "execution_count": 6
        }
      ]
    },
    {
      "cell_type": "code",
      "source": [
        "df.dropna(inplace = True)"
      ],
      "metadata": {
        "id": "ragmtHYvHESP"
      },
      "execution_count": 3,
      "outputs": []
    },
    {
      "cell_type": "code",
      "source": [
        "df.shape"
      ],
      "metadata": {
        "colab": {
          "base_uri": "https://localhost:8080/"
        },
        "id": "v-_U_zmNHEaW",
        "outputId": "51c7b1de-44de-4d11-d118-ee5138a7704e"
      },
      "execution_count": 5,
      "outputs": [
        {
          "output_type": "execute_result",
          "data": {
            "text/plain": [
              "(156, 9)"
            ]
          },
          "metadata": {},
          "execution_count": 5
        }
      ]
    },
    {
      "cell_type": "code",
      "source": [
        "before=df.dtypes"
      ],
      "metadata": {
        "id": "MZbFM6qzHEdh"
      },
      "execution_count": 10,
      "outputs": []
    },
    {
      "cell_type": "code",
      "source": [
        "df['Score']=df['Score'].astype(int)"
      ],
      "metadata": {
        "id": "YzG8aEm4I_Rw"
      },
      "execution_count": 14,
      "outputs": []
    },
    {
      "cell_type": "code",
      "source": [
        "after = df.dtypes"
      ],
      "metadata": {
        "id": "fbQ62n1WI_Xq"
      },
      "execution_count": 16,
      "outputs": []
    },
    {
      "cell_type": "code",
      "source": [
        "print(\"BEFORE CONVERSION\\n\", before, \"\\n\")\n",
        "print(\"AFTER CONVERSION\\n\", after, \"\\n\")"
      ],
      "metadata": {
        "colab": {
          "base_uri": "https://localhost:8080/"
        },
        "id": "fyEAEo6HI_aY",
        "outputId": "5a507146-b7ac-4a0c-8c11-a85e0128e40b"
      },
      "execution_count": 17,
      "outputs": [
        {
          "output_type": "stream",
          "name": "stdout",
          "text": [
            "BEFORE CONVERSION\n",
            " Overall rank                      int64\n",
            "Country or region                object\n",
            "Score                           float64\n",
            "GDP per capita                  float64\n",
            "Social support                  float64\n",
            "Healthy life expectancy         float64\n",
            "Freedom to make life choices    float64\n",
            "Generosity                      float64\n",
            "Perceptions of corruption       float64\n",
            "dtype: object \n",
            "\n",
            "AFTER CONVERSION\n",
            " Overall rank                      int64\n",
            "Country or region                object\n",
            "Score                             int64\n",
            "GDP per capita                  float64\n",
            "Social support                  float64\n",
            "Healthy life expectancy         float64\n",
            "Freedom to make life choices    float64\n",
            "Generosity                      float64\n",
            "Perceptions of corruption       float64\n",
            "dtype: object \n",
            "\n"
          ]
        }
      ]
    },
    {
      "cell_type": "code",
      "source": [
        "# Check the data types of each feature\n",
        "data_types = df.dtypes\n",
        "\n",
        "# Print the data types\n",
        "print(data_types)\n"
      ],
      "metadata": {
        "colab": {
          "base_uri": "https://localhost:8080/"
        },
        "id": "l987MMPpI_dx",
        "outputId": "a9b82344-ebae-41fd-aff9-150f6d263182"
      },
      "execution_count": 18,
      "outputs": [
        {
          "output_type": "stream",
          "name": "stdout",
          "text": [
            "Overall rank                      int64\n",
            "Country or region                object\n",
            "Score                             int64\n",
            "GDP per capita                  float64\n",
            "Social support                  float64\n",
            "Healthy life expectancy         float64\n",
            "Freedom to make life choices    float64\n",
            "Generosity                      float64\n",
            "Perceptions of corruption       float64\n",
            "dtype: object\n"
          ]
        }
      ]
    },
    {
      "cell_type": "code",
      "source": [
        "d=df['GDP per capita'].astype(int)\n",
        "print(d)"
      ],
      "metadata": {
        "colab": {
          "base_uri": "https://localhost:8080/"
        },
        "id": "Yyo63fTbfhYG",
        "outputId": "6ba5e972-d662-4949-f1d6-c57b8a551d99"
      },
      "execution_count": 25,
      "outputs": [
        {
          "output_type": "stream",
          "name": "stdout",
          "text": [
            "0      1\n",
            "1      1\n",
            "2      1\n",
            "3      1\n",
            "4      1\n",
            "      ..\n",
            "151    0\n",
            "152    0\n",
            "153    0\n",
            "154    0\n",
            "155    0\n",
            "Name: GDP per capita, Length: 156, dtype: int64\n"
          ]
        }
      ]
    },
    {
      "cell_type": "code",
      "source": [
        "score=df['Score'].tolist()\n",
        "print(score)"
      ],
      "metadata": {
        "colab": {
          "base_uri": "https://localhost:8080/"
        },
        "id": "__qKNJ1OgTAg",
        "outputId": "b3dcf0d8-ac13-4e3b-bcde-5fb60b47d75e"
      },
      "execution_count": 27,
      "outputs": [
        {
          "output_type": "stream",
          "name": "stdout",
          "text": [
            "[7, 7, 7, 7, 7, 7, 7, 7, 7, 7, 7, 7, 7, 7, 7, 7, 6, 6, 6, 6, 6, 6, 6, 6, 6, 6, 6, 6, 6, 6, 6, 6, 6, 6, 6, 6, 6, 6, 6, 6, 6, 6, 6, 6, 6, 6, 6, 6, 6, 6, 6, 6, 5, 5, 5, 5, 5, 5, 5, 5, 5, 5, 5, 5, 5, 5, 5, 5, 5, 5, 5, 5, 5, 5, 5, 5, 5, 5, 5, 5, 5, 5, 5, 5, 5, 5, 5, 5, 5, 5, 5, 5, 5, 5, 5, 5, 5, 4, 4, 4, 4, 4, 4, 4, 4, 4, 4, 4, 4, 4, 4, 4, 4, 4, 4, 4, 4, 4, 4, 4, 4, 4, 4, 4, 4, 4, 4, 4, 4, 4, 4, 4, 4, 4, 4, 4, 4, 4, 4, 4, 3, 3, 3, 3, 3, 3, 3, 3, 3, 3, 3, 3, 3, 3, 3, 2]\n"
          ]
        }
      ]
    }
  ]
}