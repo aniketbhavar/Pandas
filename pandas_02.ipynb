{
  "nbformat": 4,
  "nbformat_minor": 0,
  "metadata": {
    "colab": {
      "provenance": []
    },
    "kernelspec": {
      "name": "python3",
      "display_name": "Python 3"
    },
    "language_info": {
      "name": "python"
    }
  },
  "cells": [
    {
      "cell_type": "code",
      "execution_count": 1,
      "metadata": {
        "colab": {
          "base_uri": "https://localhost:8080/"
        },
        "id": "vxuVyxYnB9yv",
        "outputId": "16eac9e9-41ed-4486-9119-f05f5a21ce69"
      },
      "outputs": [
        {
          "output_type": "stream",
          "name": "stdout",
          "text": [
            "0    1\n",
            "1    2\n",
            "2    3\n",
            "3    4\n",
            "4    5\n",
            "dtype: int64\n"
          ]
        }
      ],
      "source": [
        "import pandas as pd\n",
        "data = [1,2,3,4,5]\n",
        "df= pd.Series(data)\n",
        "print(df)"
      ]
    },
    {
      "cell_type": "code",
      "source": [
        "# Creating a series from array\n",
        "import pandas as pd\n",
        "import numpy as np\n",
        "data=np.array(['q','w','e','f','g'])\n",
        "df=pd.Series(data)\n",
        "print(df)"
      ],
      "metadata": {
        "colab": {
          "base_uri": "https://localhost:8080/"
        },
        "id": "UQUSqNvTOZKz",
        "outputId": "47d03791-2dea-4ce5-ac9a-3e35e4704c22"
      },
      "execution_count": 4,
      "outputs": [
        {
          "output_type": "stream",
          "name": "stdout",
          "text": [
            "0    q\n",
            "1    w\n",
            "2    e\n",
            "3    f\n",
            "4    g\n",
            "dtype: object\n"
          ]
        }
      ]
    },
    {
      "cell_type": "code",
      "source": [
        "# Creating a series from Lists\n",
        "import pandas as pd\n",
        "import numpy as np\n",
        "list=[1,2,3,'a','b']\n",
        "df=pd.Series(list)\n",
        "print(df)"
      ],
      "metadata": {
        "colab": {
          "base_uri": "https://localhost:8080/"
        },
        "id": "qfHxamVXOZRK",
        "outputId": "6356fc5f-6c8d-48e3-80f5-b94ae1ca6821"
      },
      "execution_count": 7,
      "outputs": [
        {
          "output_type": "stream",
          "name": "stdout",
          "text": [
            "0    1\n",
            "1    2\n",
            "2    3\n",
            "3    a\n",
            "4    b\n",
            "dtype: object\n"
          ]
        }
      ]
    },
    {
      "cell_type": "markdown",
      "source": [
        "# Accessing element of Series"
      ],
      "metadata": {
        "id": "BYKON0szQVF0"
      }
    },
    {
      "cell_type": "code",
      "source": [
        "#Accessing Element from Series with Position\n",
        "import pandas as pd\n",
        "import numpy as np\n",
        "data= np.array(['a','b','c','d','e','f','g'])\n",
        "df=pd.Series(data)\n",
        "print(df)"
      ],
      "metadata": {
        "colab": {
          "base_uri": "https://localhost:8080/"
        },
        "id": "G2SjvT1zQQ8r",
        "outputId": "88b9a8a7-2448-4d87-aed6-9ffd1f2b40cc"
      },
      "execution_count": 8,
      "outputs": [
        {
          "output_type": "stream",
          "name": "stdout",
          "text": [
            "0    a\n",
            "1    b\n",
            "2    c\n",
            "3    d\n",
            "4    e\n",
            "5    f\n",
            "6    g\n",
            "dtype: object\n"
          ]
        }
      ]
    },
    {
      "cell_type": "code",
      "source": [
        "print(df[::-1])"
      ],
      "metadata": {
        "colab": {
          "base_uri": "https://localhost:8080/"
        },
        "id": "KemB6nhrQRBH",
        "outputId": "ed0f4f8d-6efc-48b5-b4d7-54cee1f30adf"
      },
      "execution_count": 9,
      "outputs": [
        {
          "output_type": "stream",
          "name": "stdout",
          "text": [
            "6    g\n",
            "5    f\n",
            "4    e\n",
            "3    d\n",
            "2    c\n",
            "1    b\n",
            "0    a\n",
            "dtype: object\n"
          ]
        }
      ]
    },
    {
      "cell_type": "code",
      "source": [
        "print(df[:2])"
      ],
      "metadata": {
        "colab": {
          "base_uri": "https://localhost:8080/"
        },
        "id": "1DF2XSXaQRDI",
        "outputId": "d90a2894-0c83-46db-a971-8bb58e222a45"
      },
      "execution_count": 10,
      "outputs": [
        {
          "output_type": "stream",
          "name": "stdout",
          "text": [
            "0    a\n",
            "1    b\n",
            "dtype: object\n"
          ]
        }
      ]
    }
  ]
}